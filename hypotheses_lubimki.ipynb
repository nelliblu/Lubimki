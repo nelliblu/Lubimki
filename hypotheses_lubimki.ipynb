{
 "cells": [
  {
   "cell_type": "markdown",
   "id": "4f6ad4aa",
   "metadata": {},
   "source": [
    "# Проверка гипотез"
   ]
  },
  {
   "cell_type": "code",
   "execution_count": 48,
   "id": "d31379a7",
   "metadata": {},
   "outputs": [],
   "source": [
    "import pandas as pd\n",
    "import numpy as np\n",
    "import scipy.stats as stats\n",
    "import matplotlib.pyplot as plt"
   ]
  },
  {
   "cell_type": "markdown",
   "id": "cc60f438",
   "metadata": {},
   "source": [
    "### Подгрузим данные:"
   ]
  },
  {
   "cell_type": "code",
   "execution_count": 49,
   "id": "585bec9e",
   "metadata": {},
   "outputs": [
    {
     "data": {
      "text/html": [
       "<div>\n",
       "<style scoped>\n",
       "    .dataframe tbody tr th:only-of-type {\n",
       "        vertical-align: middle;\n",
       "    }\n",
       "\n",
       "    .dataframe tbody tr th {\n",
       "        vertical-align: top;\n",
       "    }\n",
       "\n",
       "    .dataframe thead th {\n",
       "        text-align: right;\n",
       "    }\n",
       "</style>\n",
       "<table border=\"1\" class=\"dataframe\">\n",
       "  <thead>\n",
       "    <tr style=\"text-align: right;\">\n",
       "      <th></th>\n",
       "      <th>artist</th>\n",
       "      <th>song</th>\n",
       "      <th>duration_ms</th>\n",
       "      <th>explicit</th>\n",
       "      <th>year</th>\n",
       "      <th>popularity</th>\n",
       "      <th>danceability</th>\n",
       "      <th>energy</th>\n",
       "      <th>key</th>\n",
       "      <th>loudness</th>\n",
       "      <th>mode</th>\n",
       "      <th>speechiness</th>\n",
       "      <th>acousticness</th>\n",
       "      <th>instrumentalness</th>\n",
       "      <th>liveness</th>\n",
       "      <th>valence</th>\n",
       "      <th>tempo</th>\n",
       "      <th>genre</th>\n",
       "    </tr>\n",
       "  </thead>\n",
       "  <tbody>\n",
       "    <tr>\n",
       "      <th>0</th>\n",
       "      <td>Britney Spears</td>\n",
       "      <td>Oops!...I Did It Again</td>\n",
       "      <td>211160</td>\n",
       "      <td>False</td>\n",
       "      <td>2000</td>\n",
       "      <td>77</td>\n",
       "      <td>0.751</td>\n",
       "      <td>0.834</td>\n",
       "      <td>1</td>\n",
       "      <td>-5.444</td>\n",
       "      <td>0</td>\n",
       "      <td>0.0437</td>\n",
       "      <td>0.3000</td>\n",
       "      <td>0.000018</td>\n",
       "      <td>0.3550</td>\n",
       "      <td>0.894</td>\n",
       "      <td>95.053</td>\n",
       "      <td>pop</td>\n",
       "    </tr>\n",
       "    <tr>\n",
       "      <th>1</th>\n",
       "      <td>blink-182</td>\n",
       "      <td>All The Small Things</td>\n",
       "      <td>167066</td>\n",
       "      <td>False</td>\n",
       "      <td>1999</td>\n",
       "      <td>79</td>\n",
       "      <td>0.434</td>\n",
       "      <td>0.897</td>\n",
       "      <td>0</td>\n",
       "      <td>-4.918</td>\n",
       "      <td>1</td>\n",
       "      <td>0.0488</td>\n",
       "      <td>0.0103</td>\n",
       "      <td>0.000000</td>\n",
       "      <td>0.6120</td>\n",
       "      <td>0.684</td>\n",
       "      <td>148.726</td>\n",
       "      <td>rock, pop</td>\n",
       "    </tr>\n",
       "    <tr>\n",
       "      <th>2</th>\n",
       "      <td>Faith Hill</td>\n",
       "      <td>Breathe</td>\n",
       "      <td>250546</td>\n",
       "      <td>False</td>\n",
       "      <td>1999</td>\n",
       "      <td>66</td>\n",
       "      <td>0.529</td>\n",
       "      <td>0.496</td>\n",
       "      <td>7</td>\n",
       "      <td>-9.007</td>\n",
       "      <td>1</td>\n",
       "      <td>0.0290</td>\n",
       "      <td>0.1730</td>\n",
       "      <td>0.000000</td>\n",
       "      <td>0.2510</td>\n",
       "      <td>0.278</td>\n",
       "      <td>136.859</td>\n",
       "      <td>pop, country</td>\n",
       "    </tr>\n",
       "    <tr>\n",
       "      <th>3</th>\n",
       "      <td>Bon Jovi</td>\n",
       "      <td>It's My Life</td>\n",
       "      <td>224493</td>\n",
       "      <td>False</td>\n",
       "      <td>2000</td>\n",
       "      <td>78</td>\n",
       "      <td>0.551</td>\n",
       "      <td>0.913</td>\n",
       "      <td>0</td>\n",
       "      <td>-4.063</td>\n",
       "      <td>0</td>\n",
       "      <td>0.0466</td>\n",
       "      <td>0.0263</td>\n",
       "      <td>0.000013</td>\n",
       "      <td>0.3470</td>\n",
       "      <td>0.544</td>\n",
       "      <td>119.992</td>\n",
       "      <td>rock, metal</td>\n",
       "    </tr>\n",
       "    <tr>\n",
       "      <th>4</th>\n",
       "      <td>*NSYNC</td>\n",
       "      <td>Bye Bye Bye</td>\n",
       "      <td>200560</td>\n",
       "      <td>False</td>\n",
       "      <td>2000</td>\n",
       "      <td>65</td>\n",
       "      <td>0.614</td>\n",
       "      <td>0.928</td>\n",
       "      <td>8</td>\n",
       "      <td>-4.806</td>\n",
       "      <td>0</td>\n",
       "      <td>0.0516</td>\n",
       "      <td>0.0408</td>\n",
       "      <td>0.001040</td>\n",
       "      <td>0.0845</td>\n",
       "      <td>0.879</td>\n",
       "      <td>172.656</td>\n",
       "      <td>pop</td>\n",
       "    </tr>\n",
       "  </tbody>\n",
       "</table>\n",
       "</div>"
      ],
      "text/plain": [
       "           artist                    song  duration_ms  explicit  year  \\\n",
       "0  Britney Spears  Oops!...I Did It Again       211160     False  2000   \n",
       "1       blink-182    All The Small Things       167066     False  1999   \n",
       "2      Faith Hill                 Breathe       250546     False  1999   \n",
       "3        Bon Jovi            It's My Life       224493     False  2000   \n",
       "4          *NSYNC             Bye Bye Bye       200560     False  2000   \n",
       "\n",
       "   popularity  danceability  energy  key  loudness  mode  speechiness  \\\n",
       "0          77         0.751   0.834    1    -5.444     0       0.0437   \n",
       "1          79         0.434   0.897    0    -4.918     1       0.0488   \n",
       "2          66         0.529   0.496    7    -9.007     1       0.0290   \n",
       "3          78         0.551   0.913    0    -4.063     0       0.0466   \n",
       "4          65         0.614   0.928    8    -4.806     0       0.0516   \n",
       "\n",
       "   acousticness  instrumentalness  liveness  valence    tempo         genre  \n",
       "0        0.3000          0.000018    0.3550    0.894   95.053           pop  \n",
       "1        0.0103          0.000000    0.6120    0.684  148.726     rock, pop  \n",
       "2        0.1730          0.000000    0.2510    0.278  136.859  pop, country  \n",
       "3        0.0263          0.000013    0.3470    0.544  119.992   rock, metal  \n",
       "4        0.0408          0.001040    0.0845    0.879  172.656           pop  "
      ]
     },
     "execution_count": 49,
     "metadata": {},
     "output_type": "execute_result"
    }
   ],
   "source": [
    "df = pd.read_csv('songs_normalize.csv')\n",
    "df.head()"
   ]
  },
  {
   "cell_type": "markdown",
   "id": "9275f23e",
   "metadata": {},
   "source": [
    "### При выполнении проекта у нас появились 3 гипотезы, которые мы проверим ниже:"
   ]
  },
  {
   "cell_type": "markdown",
   "id": "09d9216c",
   "metadata": {},
   "source": [
    "## Гипотеза 1: популярность песен с минорным ладом в среднем больше, чем популярность песен с мажорным."
   ]
  },
  {
   "cell_type": "markdown",
   "id": "01376d30",
   "metadata": {},
   "source": [
    "Нулевая гипотеза ($Н_О$): средняя популярность песен с минорным ладом меньше или равна средней популярности песен с мажорным ладом.\n",
    "Альтернативная гипотеза ($Н_A$): средняя популярность песен с минорным ладом больше средней популярности песен с мажорным ладом."
   ]
  },
  {
   "cell_type": "markdown",
   "id": "0a0a8571",
   "metadata": {},
   "source": [
    "$$H_O: \\mu_{минор} <= \\mu_{мажор}$$\n",
    "$$H_A: \\mu_{минор} > \\mu_{мажор}$$"
   ]
  },
  {
   "cell_type": "markdown",
   "id": "e89295c6",
   "metadata": {},
   "source": [
    ", где $\\mu_{минор}$ - ожидаемая популярность песен с минорным ладом, $\\mu_{мажор}$ - ожидаемая популярность песен с мажорным ладом. "
   ]
  },
  {
   "cell_type": "markdown",
   "id": "a463a230",
   "metadata": {},
   "source": [
    "Разделим данные по популярности песен с минорным (mode=0) и мажорным (mode=1) ладом"
   ]
  },
  {
   "cell_type": "code",
   "execution_count": 50,
   "id": "ff90b4f5",
   "metadata": {},
   "outputs": [],
   "source": [
    "X_minor = df_tracks[df_tracks['mode'] == 0]['popularity']\n",
    "Y_major = df_tracks[df_tracks['mode'] == 1]['popularity']"
   ]
  },
  {
   "cell_type": "code",
   "execution_count": 51,
   "id": "c43997a7",
   "metadata": {},
   "outputs": [
    {
     "data": {
      "text/plain": [
       "((893,), (1107,))"
      ]
     },
     "execution_count": 51,
     "metadata": {},
     "output_type": "execute_result"
    }
   ],
   "source": [
    "X_minor.shape, Y_major.shape"
   ]
  },
  {
   "cell_type": "markdown",
   "id": "c03765a8",
   "metadata": {},
   "source": [
    "Можем сделать вывод о достаточном количестве данных, чтобы говорить о применимости ЦПТ. Проверим гипотезу на уровне $5\\%$ с помощью одностороннего $t$-теста (применяем его, так как не знаем настоящую теоритическую дисперсию):"
   ]
  },
  {
   "cell_type": "code",
   "execution_count": 52,
   "id": "11d65e6f",
   "metadata": {},
   "outputs": [
    {
     "name": "stdout",
     "output_type": "stream",
     "text": [
      "t-статистика: 0.9546913966209316\n",
      "p-значение: 0.16992463522881657\n"
     ]
    }
   ],
   "source": [
    "t_stat, p_value = stats.ttest_ind(X_minor, Y_major, alternative='greater')\n",
    "print(\"t-статистика:\", t_stat)\n",
    "print(\"p-значение:\", p_value)"
   ]
  },
  {
   "cell_type": "markdown",
   "id": "972b3abc",
   "metadata": {},
   "source": [
    "Вывод на основе p-значения"
   ]
  },
  {
   "cell_type": "code",
   "execution_count": 53,
   "id": "9346d0c1",
   "metadata": {},
   "outputs": [
    {
     "name": "stdout",
     "output_type": "stream",
     "text": [
      "Нет оснований отвергать нулевую гипотезу.\n"
     ]
    }
   ],
   "source": [
    "if p_value < 0.05:\n",
    "    print(\"Отвергаем нулевую гипотезу в пользу альтернативной гипотезы: популярность песен с минорным ладом больше.\")\n",
    "else:\n",
    "    print(\"Нет оснований отвергать нулевую гипотезу.\")"
   ]
  },
  {
   "cell_type": "markdown",
   "id": "6ee48f13",
   "metadata": {},
   "source": [
    "#### Вывод: наша первоначальная гипотеза о том, что средняя популярность песен с минорным ладом больше средней популярности песен с мажорным ладом, не подтвержается, так как нет оснований отвергать то, что средняя популярность песен с минорным ладом меньше или равна средней популярности песен с мажорным ладом"
   ]
  },
  {
   "cell_type": "markdown",
   "id": "dd124e51",
   "metadata": {},
   "source": [
    "## Гипотеза 2: между уровнем громкости и мерой, которая показывает, насколько песня подходит для танцев есть положительная зависимость."
   ]
  },
  {
   "cell_type": "markdown",
   "id": "8e1065d3",
   "metadata": {},
   "source": [
    "Нулевая гипотеза ($Н_О$): коэффициент корреляции между уровнем громкости и танцевальностью равен нулю (нет корреляции). \\\n",
    "Альтернативная гипотеза ($Н_A$): коэффициент корреляции между уровнем громкости и танцевальностью больше нуля (положительная корреляция)."
   ]
  },
  {
   "cell_type": "markdown",
   "id": "4d508da7",
   "metadata": {},
   "source": [
    "$$H_O: \\rho = 0 $$\n",
    "$$Н_A: \\rho > 0 $$"
   ]
  },
  {
   "cell_type": "markdown",
   "id": "94408ed9",
   "metadata": {},
   "source": [
    ", где $\\rho$ - коэффициент корреляции между уровнем громкости и танцевальностью. "
   ]
  },
  {
   "cell_type": "markdown",
   "id": "a1732a7a",
   "metadata": {},
   "source": [
    "Вычислим наблюдаемый коэффициент корреляции Пирсона:"
   ]
  },
  {
   "cell_type": "code",
   "execution_count": 55,
   "id": "3e1666a1",
   "metadata": {},
   "outputs": [
    {
     "data": {
      "text/plain": [
       "-0.033314857853921305"
      ]
     },
     "execution_count": 55,
     "metadata": {},
     "output_type": "execute_result"
    }
   ],
   "source": [
    "obs_corr = np.corrcoef(df_tracks['loudness'], df_tracks['danceability'])[0, 1]\n",
    "obs_corr"
   ]
  },
  {
   "cell_type": "markdown",
   "id": "70dcc3d1",
   "metadata": {},
   "source": [
    "Теперь для проверки выполним перестановочный тест:"
   ]
  },
  {
   "cell_type": "code",
   "execution_count": 56,
   "id": "a4e24f25",
   "metadata": {},
   "outputs": [],
   "source": [
    "num_permutations = 10000\n",
    "permuted_corrs = []\n",
    "\n",
    "for _ in range(num_permutations):\n",
    "    permuted_loudness = np.random.permutation(df_tracks['loudness'])\n",
    "    permuted_corr = np.corrcoef(permuted_loudness, df_tracks['danceability'])[0, 1]\n",
    "    permuted_corrs.append(permuted_corr)"
   ]
  },
  {
   "cell_type": "markdown",
   "id": "04941f4d",
   "metadata": {},
   "source": [
    "Вычислим критическое значение p-значения для уровня значимости $5\\%$ $\\rho_{crit}$:\n",
    "\n"
   ]
  },
  {
   "cell_type": "code",
   "execution_count": 57,
   "id": "18894aab",
   "metadata": {},
   "outputs": [
    {
     "data": {
      "text/plain": [
       "-0.037589908615190064"
      ]
     },
     "execution_count": 57,
     "metadata": {},
     "output_type": "execute_result"
    }
   ],
   "source": [
    "p_crit = np.percentile(permuted_corrs, q=5)\n",
    "p_crit"
   ]
  },
  {
   "cell_type": "markdown",
   "id": "610e7392",
   "metadata": {},
   "source": [
    "Выведем получившиеся значения:"
   ]
  },
  {
   "cell_type": "code",
   "execution_count": 58,
   "id": "9892747f",
   "metadata": {},
   "outputs": [
    {
     "name": "stdout",
     "output_type": "stream",
     "text": [
      "Наблюдаемый коэффициент корреляции Пирсона: -0.033314857853921305\n",
      "p_crit: -0.037589908615190064\n"
     ]
    }
   ],
   "source": [
    "print(\"Наблюдаемый коэффициент корреляции Пирсона:\", obs_corr)\n",
    "print(\"p_crit:\", p_crit)"
   ]
  },
  {
   "cell_type": "code",
   "execution_count": 59,
   "id": "1a5ef994",
   "metadata": {},
   "outputs": [
    {
     "name": "stdout",
     "output_type": "stream",
     "text": [
      "Нет оснований отвергать нулевую гипотезу.\n"
     ]
    }
   ],
   "source": [
    "if obs_corr < p_crit:\n",
    "    print(\"Отвергаем нулевую гипотезу в пользу альтернативной гипотезы: есть положительная зависимость.\")\n",
    "else:\n",
    "    print(\"Нет оснований отвергать нулевую гипотезу.\")"
   ]
  },
  {
   "cell_type": "markdown",
   "id": "74f04791",
   "metadata": {},
   "source": [
    "#### Вывод: наша первоначальная гипотеза о том, что между уровнем громкости и мерой, которая показывает, насколько песня подходит для танцев есть положительная зависимость, не подтверждается, так как нет оснований отвергать, что коэффициент корреляции между уровнем громкости и танцевальностью равен нулю (нет корреляции). "
   ]
  },
  {
   "cell_type": "markdown",
   "id": "2d794fd8",
   "metadata": {},
   "source": [
    "## Гипотеза 3: между длительностью песни и популярностью есть отрицательная зависимость. "
   ]
  },
  {
   "cell_type": "markdown",
   "id": "71b36d46",
   "metadata": {},
   "source": [
    "Нулевая гипотеза ($Н_О$): коэффициент корреляции между длительностью песни и популярностью равен нулю (нет корреляции).\\\n",
    "Альтернативная гипотеза ($Н_A$): коэффициент корреляции между длительностью песни и популярностью меньше нуля (отрицательная корреляция)."
   ]
  },
  {
   "cell_type": "markdown",
   "id": "aa780ea5",
   "metadata": {},
   "source": [
    "$$H_O: \\rho = 0 $$\n",
    "$$H_A: \\rho < 0$$ \\\n",
    ", где $\\rho$ — коэффициент корреляции между длительностью песни и популярностью."
   ]
  },
  {
   "cell_type": "markdown",
   "id": "ed456497",
   "metadata": {},
   "source": [
    "Вычислим наблюдаемый коэффициент корреляции Пирсона:"
   ]
  },
  {
   "cell_type": "code",
   "execution_count": 60,
   "id": "c0812225",
   "metadata": {},
   "outputs": [
    {
     "data": {
      "text/plain": [
       "0.05061721936219039"
      ]
     },
     "execution_count": 60,
     "metadata": {},
     "output_type": "execute_result"
    }
   ],
   "source": [
    "obs_corr2 = np.corrcoef(df_tracks['duration_ms'], df_tracks['popularity'])[0, 1]\n",
    "obs_corr2"
   ]
  },
  {
   "cell_type": "markdown",
   "id": "2e61af5b",
   "metadata": {},
   "source": [
    "Теперь для проверки выполним перестановочный тест:"
   ]
  },
  {
   "cell_type": "code",
   "execution_count": 61,
   "id": "8945d5f7",
   "metadata": {},
   "outputs": [],
   "source": [
    "num_per = 10000\n",
    "per_corrs = []\n",
    "\n",
    "for _ in range(num_per):\n",
    "    permuted_duration_ms = np.random.permutation(df_tracks['duration_ms'])\n",
    "    per_corr = np.corrcoef(permuted_duration_ms, df_tracks['popularity'])[0, 1]\n",
    "    per_corrs.append(per_corr)"
   ]
  },
  {
   "cell_type": "markdown",
   "id": "2d39f7bd",
   "metadata": {},
   "source": [
    "Вычислим критическое значение p-значения для уровня значимости $5\\%$ $\\rho_{crit}$:"
   ]
  },
  {
   "cell_type": "code",
   "execution_count": 62,
   "id": "faf88494",
   "metadata": {},
   "outputs": [
    {
     "data": {
      "text/plain": [
       "-0.03627805781911337"
      ]
     },
     "execution_count": 62,
     "metadata": {},
     "output_type": "execute_result"
    }
   ],
   "source": [
    "p2_crit = np.percentile(per_corrs, q=5)\n",
    "p2_crit"
   ]
  },
  {
   "cell_type": "code",
   "execution_count": 63,
   "id": "a026ec08",
   "metadata": {},
   "outputs": [
    {
     "name": "stdout",
     "output_type": "stream",
     "text": [
      "Наблюдаемый коэффициент корреляции Пирсона: 0.05061721936219039\n",
      "p_crit: -0.03627805781911337\n"
     ]
    }
   ],
   "source": [
    "print(\"Наблюдаемый коэффициент корреляции Пирсона:\", obs_corr2)\n",
    "print(\"p_crit:\", p2_crit)"
   ]
  },
  {
   "cell_type": "code",
   "execution_count": 64,
   "id": "8b2eff1a",
   "metadata": {},
   "outputs": [
    {
     "name": "stdout",
     "output_type": "stream",
     "text": [
      "Нет оснований отвергать нулевую гипотезу.\n"
     ]
    }
   ],
   "source": [
    "if obs_corr2 < p2_crit:\n",
    "    print(\"Отвергаем нулевую гипотезу в пользу альтернативной гипотезы: есть положительная зависимость.\")\n",
    "else:\n",
    "    print(\"Нет оснований отвергать нулевую гипотезу.\")"
   ]
  },
  {
   "cell_type": "markdown",
   "id": "16429aee",
   "metadata": {},
   "source": [
    "#### Вывод: наша первоначальная гипотеза о том, что между длительностью песни и популярностью есть отрицательная зависимость, не подтверждается, так как нет оснований отвергать, что коэффициент корреляции между длительностью песни и популярностью равен нулю."
   ]
  },
  {
   "cell_type": "code",
   "execution_count": null,
   "id": "a4e73392",
   "metadata": {},
   "outputs": [],
   "source": []
  }
 ],
 "metadata": {
  "kernelspec": {
   "display_name": "Python 3 (ipykernel)",
   "language": "python",
   "name": "python3"
  },
  "language_info": {
   "codemirror_mode": {
    "name": "ipython",
    "version": 3
   },
   "file_extension": ".py",
   "mimetype": "text/x-python",
   "name": "python",
   "nbconvert_exporter": "python",
   "pygments_lexer": "ipython3",
   "version": "3.10.9"
  }
 },
 "nbformat": 4,
 "nbformat_minor": 5
}
